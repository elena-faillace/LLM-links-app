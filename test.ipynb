{
 "cells": [
  {
   "cell_type": "code",
   "execution_count": 46,
   "metadata": {},
   "outputs": [],
   "source": [
    "import sqlite3\n",
    "import typer\n",
    "from rich import print\n",
    "import requests\n",
    "from bs4 import BeautifulSoup"
   ]
  },
  {
   "cell_type": "code",
   "execution_count": 47,
   "metadata": {},
   "outputs": [],
   "source": [
    "# Send a GET request to the URL\n",
    "url = 'https://www.londonambulance.nhs.uk/working-for-us/volunteering-with-us/emergency-responders/'\n",
    "response = requests.get(url)"
   ]
  },
  {
   "cell_type": "code",
   "execution_count": 48,
   "metadata": {},
   "outputs": [
    {
     "data": {
      "text/html": [
       "<pre style=\"white-space:pre;overflow-x:auto;line-height:normal;font-family:Menlo,'DejaVu Sans Mono',consolas,'Courier New',monospace\"><span style=\"font-weight: bold\">&lt;</span><span style=\"color: #000000; text-decoration-color: #000000\">!DOCTYPE html&gt;</span>\n",
       "\n",
       "<span style=\"color: #000000; text-decoration-color: #000000\">&lt;!--&gt;</span>\n",
       "<span style=\"color: #000000; text-decoration-color: #000000\">    &lt;html </span><span style=\"color: #808000; text-decoration-color: #808000\">class</span><span style=\"color: #000000; text-decoration-color: #000000\">=</span><span style=\"color: #008000; text-decoration-color: #008000\">\"lt-ie9\"</span><span style=\"color: #000000; text-decoration-color: #000000\"> </span><span style=\"color: #808000; text-decoration-color: #808000\">lang</span><span style=\"color: #000000; text-decoration-color: #000000\">=</span><span style=\"color: #008000; text-decoration-color: #008000\">\"en\"</span><span style=\"color: #000000; text-decoration-color: #000000\">&gt;</span>\n",
       "<span style=\"color: #000000; text-decoration-color: #000000\">    &lt;!--&gt;</span>\n",
       "<span style=\"color: #000000; text-decoration-color: #000000\">&lt;!--&gt;</span>\n",
       "<span style=\"color: #000000; text-decoration-color: #000000\">        &lt;!--&gt;</span>\n",
       "<span style=\"color: #000000; text-decoration-color: #000000\">&lt;html </span><span style=\"color: #808000; text-decoration-color: #808000\">lang</span><span style=\"color: #000000; text-decoration-color: #000000\">=</span><span style=\"color: #008000; text-decoration-color: #008000\">\"en\"</span><span style=\"color: #000000; text-decoration-color: #000000\">&gt;</span>\n",
       "<span style=\"color: #000000; text-decoration-color: #000000\">&lt;!--&lt;!--&gt;</span>\n",
       "\n",
       "<span style=\"color: #000000; text-decoration-color: #000000\">&lt;head&gt;</span>\n",
       "\n",
       "<span style=\"color: #000000; text-decoration-color: #000000\">    &lt;meta </span><span style=\"color: #808000; text-decoration-color: #808000\">name</span><span style=\"color: #000000; text-decoration-color: #000000\">=</span><span style=\"color: #008000; text-decoration-color: #008000\">\"viewport\"</span><span style=\"color: #000000; text-decoration-color: #000000\"> </span><span style=\"color: #808000; text-decoration-color: #808000\">content</span><span style=\"color: #000000; text-decoration-color: #000000\">=</span><span style=\"color: #008000; text-decoration-color: #008000\">\"width=device-width, initial-scale=1\"</span><span style=\"color: #000000; text-decoration-color: #000000\">&gt;</span>\n",
       "<span style=\"color: #000000; text-decoration-color: #000000\">        &lt;meta http-</span><span style=\"color: #808000; text-decoration-color: #808000\">equiv</span><span style=\"color: #000000; text-decoration-color: #000000\">=</span><span style=\"color: #008000; text-decoration-color: #008000\">\"X-UA-Compatible\"</span><span style=\"color: #000000; text-decoration-color: #000000\"> </span><span style=\"color: #808000; text-decoration-color: #808000\">content</span><span style=\"color: #000000; text-decoration-color: #000000\">=</span><span style=\"color: #008000; text-decoration-color: #008000\">\"IE=edge\"</span><span style=\"color: #000000; text-decoration-color: #000000\">&gt;</span>\n",
       "<span style=\"color: #000000; text-decoration-color: #000000\">        &lt;style&gt;img:</span><span style=\"color: #800080; text-decoration-color: #800080; font-weight: bold\">is</span><span style=\"color: #000000; text-decoration-color: #000000; font-weight: bold\">(</span><span style=\"color: #000000; text-decoration-color: #000000\">, </span><span style=\"color: #000000; text-decoration-color: #000000; font-weight: bold\">)</span><span style=\"color: #000000; text-decoration-color: #000000\"> </span><span style=\"color: #000000; text-decoration-color: #000000; font-weight: bold\">{</span><span style=\"color: #000000; text-decoration-color: #000000\"> contain-intrinsic-size: 3000px 1500px </span><span style=\"color: #000000; text-decoration-color: #000000; font-weight: bold\">}</span><span style=\"color: #000000; text-decoration-color: #000000\">&lt;</span><span style=\"color: #800080; text-decoration-color: #800080\">/</span><span style=\"color: #ff00ff; text-decoration-color: #ff00ff\">style</span><span style=\"color: #000000; text-decoration-color: #000000\">&gt;</span>\n",
       "<span style=\"color: #000000; text-decoration-color: #000000\">        </span>\n",
       "<span style=\"color: #000000; text-decoration-color: #000000\">                &lt;!-- All in One SEO </span><span style=\"color: #00ff00; text-decoration-color: #00ff00; font-weight: bold\">4.8.1.1</span><span style=\"color: #000000; text-decoration-color: #000000\"> - aioseo.com --</span><span style=\"font-weight: bold\">&gt;</span>\n",
       "        &lt;meta <span style=\"color: #808000; text-decoration-color: #808000\">name</span>=<span style=\"color: #008000; text-decoration-color: #008000\">\"description\"</span> <span style=\"color: #808000; text-decoration-color: #808000\">content</span>=<span style=\"color: #800080; text-decoration-color: #800080\">\"Emergency</span> Responders \n",
       "</pre>\n"
      ],
      "text/plain": [
       "\u001b[1m<\u001b[0m\u001b[39m!DOCTYPE html>\u001b[0m\n",
       "\n",
       "\u001b[39m<!--\u001b[0m\u001b[39m>\u001b[0m\n",
       "\u001b[39m    <html \u001b[0m\u001b[33mclass\u001b[0m\u001b[39m=\u001b[0m\u001b[32m\"lt\u001b[0m\u001b[32m-ie9\"\u001b[0m\u001b[39m \u001b[0m\u001b[33mlang\u001b[0m\u001b[39m=\u001b[0m\u001b[32m\"en\"\u001b[0m\u001b[39m>\u001b[0m\n",
       "\u001b[39m    <!\u001b[0m\u001b[39m-->\u001b[0m\n",
       "\u001b[39m<!--\u001b[0m\u001b[39m>\u001b[0m\n",
       "\u001b[39m        <!-->\u001b[0m\n",
       "\u001b[39m<html \u001b[0m\u001b[33mlang\u001b[0m\u001b[39m=\u001b[0m\u001b[32m\"en\"\u001b[0m\u001b[39m>\u001b[0m\n",
       "\u001b[39m<!--<!\u001b[0m\u001b[39m-->\u001b[0m\n",
       "\n",
       "\u001b[39m<head>\u001b[0m\n",
       "\n",
       "\u001b[39m    <meta \u001b[0m\u001b[33mname\u001b[0m\u001b[39m=\u001b[0m\u001b[32m\"viewport\"\u001b[0m\u001b[39m \u001b[0m\u001b[33mcontent\u001b[0m\u001b[39m=\u001b[0m\u001b[32m\"width\u001b[0m\u001b[32m=device-width, initial-\u001b[0m\u001b[32mscale\u001b[0m\u001b[32m=\u001b[0m\u001b[32m1\"\u001b[0m\u001b[39m>\u001b[0m\n",
       "\u001b[39m        \u001b[0m\u001b[39m<meta http-\u001b[0m\u001b[33mequiv\u001b[0m\u001b[39m=\u001b[0m\u001b[32m\"X\u001b[0m\u001b[32m-UA-Compatible\"\u001b[0m\u001b[39m \u001b[0m\u001b[33mcontent\u001b[0m\u001b[39m=\u001b[0m\u001b[32m\"IE\u001b[0m\u001b[32m=edge\"\u001b[0m\u001b[39m>\u001b[0m\n",
       "\u001b[39m        \u001b[0m\u001b[39m<style>img:\u001b[0m\u001b[1;35mis\u001b[0m\u001b[1;39m(\u001b[0m\u001b[39m, \u001b[0m\u001b[1;39m)\u001b[0m\u001b[39m \u001b[0m\u001b[1;39m{\u001b[0m\u001b[39m contain-intrinsic-size: 3000px 1500px \u001b[0m\u001b[1;39m}\u001b[0m\u001b[39m<\u001b[0m\u001b[35m/\u001b[0m\u001b[95mstyle\u001b[0m\u001b[39m>\u001b[0m\n",
       "\u001b[39m        \u001b[0m\n",
       "\u001b[39m        \u001b[0m\u001b[39m        \u001b[0m\u001b[39m<!-- All in One SEO \u001b[0m\u001b[1;92m4.8.1.1\u001b[0m\u001b[39m - aioseo.com --\u001b[0m\u001b[1m>\u001b[0m\n",
       "        <meta \u001b[33mname\u001b[0m=\u001b[32m\"description\"\u001b[0m \u001b[33mcontent\u001b[0m=\u001b[35m\"Emergency\u001b[0m Responders \n"
      ]
     },
     "metadata": {},
     "output_type": "display_data"
    }
   ],
   "source": [
    "if response.status_code == 200:\n",
    "    # Return the HTML content of the page\n",
    "    print(response.text[:500])\n",
    "else:\n",
    "    print(f\"Failed to retrieve the page. Status code: {response.status_code}\")\n"
   ]
  },
  {
   "cell_type": "code",
   "execution_count": 80,
   "metadata": {},
   "outputs": [
    {
     "data": {
      "text/html": [
       "<pre style=\"white-space:pre;overflow-x:auto;line-height:normal;font-family:Menlo,'DejaVu Sans Mono',consolas,'Courier New',monospace\">Title: Emergency Responders - London Ambulance Service NHS Trust\n",
       "</pre>\n"
      ],
      "text/plain": [
       "Title: Emergency Responders - London Ambulance Service NHS Trust\n"
      ]
     },
     "metadata": {},
     "output_type": "display_data"
    }
   ],
   "source": [
    "soup = BeautifulSoup(response.content, 'html.parser')\n",
    "title = soup.title.string if soup.title else 'No Title'\n",
    "body = soup.find('body').get_text()\n",
    "print(f\"Title: {title}\")"
   ]
  },
  {
   "cell_type": "code",
   "execution_count": 81,
   "metadata": {},
   "outputs": [
    {
     "data": {
      "text/plain": [
       "' We use cookies to enable us to provide the very best user experience. Cookies help the website to function and to track how you interact with the site. By continuing to browse you are agreeing to our use of necessary cookies. Accept All Cookies Only Necessary Cookies Skip to content Privacy Notice Accessibility Sitemap Contact Us Print this page Follow us on social media: Link to FacebookLink to TwitterLink to InstagramLink to LinkedInLink to YouTubeLink to TikTok About usWhat we do How we are doing Our plans for the future Our history Our publications Board Meetings and Governance Meet our leadership team Our Digital 999 programme -ePCR Working with suppliers Commercial services Research Calling usCalling 999 NHS 111 How you can help us to help you at busy times for the NHS Who will treat you Learning disabilities and Autism zone Mental health care Emergency heart care Emergency stroke care Emergency trauma care End of Life Care Keeping safe and well in colder weather Working for usApprenticeship opportunities Benefits Career Opportunities Current vacancies Equality, diversity and inclusion Hear from our staff and volunteers Volunteering with us Talking with usThanking our staff and volunteers Making a complaint How to find us Freedom of Information Solicitors’ enquiries How we use your personal information Medical records requests NewsBBC documentary: Ambulance News Archive London Ambulance Service on social media TV and radio Health professionalsSafeguarding children, young people and adults at risk Caring for frequent callers Healthcare professional information Emergency Bed Service Reporting incidents to us Getting involvedBecome a London Lifesaver London Lifesavers Schools Programme Support the London Ambulance Charity Public education, schools and community visits GoodSAM app Volunteering with us London Ambulance Service Public and Patients CouncilSearch for:SearchHome Working for us Volunteering with usEmergency RespondersEmergency RespondersEmergency Responders (ERs) are London Ambulance Service-trained volunteers who attend a range of emergency calls in Service uniform and in blue-light response cars. Emergency responders Gary and Fabio They are currently based at Bromley, Forest Hill, Friern Barnet, Hillingdon, Ilford, Isleworth, Mill Hill, Pinner, St Helier, and Waterloo ambulance stations. Each station also has a volunteer ER Team Leader to support with admin and welfare. Emergency Responders operate in charity-funded blue light vehicles and work under London Ambulance Service management and policies. We currently have nearly 110 volunteers in our Emergency Responder team. In 2023/4 they did 17,022 volunteer hours responding to emergency calls in London.youtu.be has been blocked due to your cookie preferences, you can change those by clicking on the cookie button on any page.Emergency Responders and the response to Covid-19 During the coronavirus pandemic, our volunteer responders – including ERs – played a huge role in helping us give Londoners the care they need. ERs have been doing more shifts than ever before during the coronavirus: volunteering their time to respond in pairs in response cars, but also – for the first time – responding alongside ‘regular’ clinicians in ambulances. In 2020, 23 per cent of total ER hours were on a double-crewed ambulance. Hear from two Emergency Responders, Ben and Cornelius, on how they helped the Service during our response to the coronavirus in the below video. You can also read more profiles of volunteer responders and their contribution during the pandemic here. \\ufeff Emergency Responder scope of practiceThe core training of Emergency Responders is the FutureQuals Level 3 Award for First Responders on Scene: Ambulance Service Co-Responder qualification. Emergency Responders also undertake regular Continuing Professional Development sessions throughout the year. They attend a variety of medical and trauma calls. Applying to join the Emergency Responder schemeThere are currently no plans to hold a recruitment process for 2025. Please check website for future updates. Applications will be considered from anyone who meets all of the following criteria: • Is over 18 years of age at the time of the application • Hold a valid First Aid certificate (or equivalent) that covers a minimum of Basic Life Support & defibrillation (proof will be required) • Can evidence experience in dealing with stressful incidents. The following are not eligible to apply: • HCPC Registered Paramedics • NHS Trust / private employed emergency ambulance crew / technician equivalent. Other Frequently Asked QuestionsWhat is the commitment? After passing the application and assessment centre process, applicants will be required to undertake the required online pre-learning and an initial full-time six day training course. You will need to complete a minimum of 32 hours consolidation (within your first two months) as an additional person on shifts. Once you have completed your consolidation period you will be expected to commit at least 16 hours per month on shifts. Shifts are normally eight hours but can be altered to fit your availability. You will also be expected to attend a minimum of four Continuous Personal Development (CPD) sessions of approximately two hours each, per year. What does the assessment centre involve? The assessment centre will comprise an interview (with London Ambulance Service staff and existing scheme members) and an individual Basic Life Support (BLS) assessment in which you will need to show proficiency in BLS and the use of a defibrillator. A pocket mask will be available. During this assessment there will be a competent bystander to assist with your BLS but they will need direction from you. Communication will be assessed. What happens after the assessment centre? If you pass both parts of the assessment centre, you will undertake an enhanced DBS check, Occupational Health screening and reference checks, all of which must be passed. Once this is done, you will be offered a number of course dates for your six full-day initial course. The course generally runs from Monday to Saturday, in the London region. What if I’ve never used an AED (Automated External Defibrillator)? This is an essential skill that you will need to be competent in to pass the course. We don’t expect you to be an expert at the assessment centre but we do expect that you safely use a defibrillator as well as delivering high quality cardio pulmonary resuscitation (CPR). The initial training course is intensive and you must have a good grounding of first Aid and BLS. Can I drive for the scheme? If you are a blue light driver holding any of the below qualifications then you should be able to drive on the scheme, subject to driving licence checks and a successful check test with a London Ambulance Service driving assessor.IHCD FutureQuals Level 3 emergency response driving qualification with a car component Police Response or higherHow do I book shifts? We use an online system that enables us to communicate with each other and book shifts; you can either add a shift that suits you or you can join a person looking for a driver or attendant. Do I always respond from the same place? No, on completion of your course you are allocated to a ‘base’ station for admin purposes and you can book shifts and respond from any location where the scheme operates. Is there any training after I qualify? Yes – there are regular CPD evenings (approximately two hours each) over the course of the year and you need to attend a minimum number of mandatory sessions, in addition to maintaining your minimum commitment of 16 hours responding per month. Are expenses covered? We cover travel expenses and a meal allowance. Training, uniform and all clinical equipment required for duty are also provided. What if I already have FPOS-I, ASFR or other qualifications? People with non-LAS FPOSi, ASFR or any other qualification, including FREC or military medics, still need to complete the full training course. If you have any questions not covered here please contact a member of the team: [email\\xa0protected]Meet some of our Emergency Responders Volunteers come from all walks of life – from teachers to solicitors and pilots to dentists! Find out more about who our Emergency Responders are and why they joined us. Emergency Responder volunteer profiles Go behind the scenes of a shift with ER crew Tyler and Jenny youtu.be has been blocked due to your cookie preferences, you can change those by clicking on the cookie button on any page.Benji shows some of the kit and equipment our ERs carry and use youtu.be has been blocked due to your cookie preferences, you can change those by clicking on the cookie button on any page. Privacy Notice Freedom of Information Disclaimer SitemapCreated by Connect Cookie Settings'"
      ]
     },
     "execution_count": 81,
     "metadata": {},
     "output_type": "execute_result"
    }
   ],
   "source": [
    "soup.find('body').get_text()\n",
    "# Remove all \\n characters\n",
    "body = body.replace('\\n', ' ')\n",
    "body = body.replace('\\t', ' ')\n",
    "body = body.split('  ')\n",
    "body = ''.join(body)\n",
    "body"
   ]
  },
  {
   "cell_type": "code",
   "execution_count": null,
   "metadata": {},
   "outputs": [],
   "source": []
  }
 ],
 "metadata": {
  "kernelspec": {
   "display_name": ".venv",
   "language": "python",
   "name": "python3"
  },
  "language_info": {
   "codemirror_mode": {
    "name": "ipython",
    "version": 3
   },
   "file_extension": ".py",
   "mimetype": "text/x-python",
   "name": "python",
   "nbconvert_exporter": "python",
   "pygments_lexer": "ipython3",
   "version": "3.12.9"
  }
 },
 "nbformat": 4,
 "nbformat_minor": 2
}
