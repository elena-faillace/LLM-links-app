{
 "cells": [
  {
   "cell_type": "code",
   "execution_count": 10,
   "metadata": {},
   "outputs": [],
   "source": [
    "import sqlite3\n",
    "import typer\n",
    "from rich import print\n",
    "import requests"
   ]
  },
  {
   "cell_type": "code",
   "execution_count": 11,
   "metadata": {},
   "outputs": [],
   "source": [
    "# Send a GET request to the URL\n",
    "url = 'https://www.londonambulance.nhs.uk/working-for-us/volunteering-with-us/emergency-responders/'\n",
    "response = requests.get(url)"
   ]
  },
  {
   "cell_type": "code",
   "execution_count": 12,
   "metadata": {},
   "outputs": [
    {
     "data": {
      "text/html": [
       "<pre style=\"white-space:pre;overflow-x:auto;line-height:normal;font-family:Menlo,'DejaVu Sans Mono',consolas,'Courier New',monospace\"><span style=\"font-weight: bold\">&lt;</span><span style=\"color: #000000; text-decoration-color: #000000\">!DOCTYPE html&gt;</span>\n",
       "\n",
       "<span style=\"color: #000000; text-decoration-color: #000000\">&lt;!--&gt;</span>\n",
       "<span style=\"color: #000000; text-decoration-color: #000000\">    &lt;html </span><span style=\"color: #808000; text-decoration-color: #808000\">class</span><span style=\"color: #000000; text-decoration-color: #000000\">=</span><span style=\"color: #008000; text-decoration-color: #008000\">\"lt-ie9\"</span><span style=\"color: #000000; text-decoration-color: #000000\"> </span><span style=\"color: #808000; text-decoration-color: #808000\">lang</span><span style=\"color: #000000; text-decoration-color: #000000\">=</span><span style=\"color: #008000; text-decoration-color: #008000\">\"en\"</span><span style=\"color: #000000; text-decoration-color: #000000\">&gt;</span>\n",
       "<span style=\"color: #000000; text-decoration-color: #000000\">    &lt;!--&gt;</span>\n",
       "<span style=\"color: #000000; text-decoration-color: #000000\">&lt;!--&gt;</span>\n",
       "<span style=\"color: #000000; text-decoration-color: #000000\">        &lt;!--&gt;</span>\n",
       "<span style=\"color: #000000; text-decoration-color: #000000\">&lt;html </span><span style=\"color: #808000; text-decoration-color: #808000\">lang</span><span style=\"color: #000000; text-decoration-color: #000000\">=</span><span style=\"color: #008000; text-decoration-color: #008000\">\"en\"</span><span style=\"color: #000000; text-decoration-color: #000000\">&gt;</span>\n",
       "<span style=\"color: #000000; text-decoration-color: #000000\">&lt;!--&lt;!--&gt;</span>\n",
       "\n",
       "<span style=\"color: #000000; text-decoration-color: #000000\">&lt;head&gt;</span>\n",
       "\n",
       "<span style=\"color: #000000; text-decoration-color: #000000\">    &lt;meta </span><span style=\"color: #808000; text-decoration-color: #808000\">name</span><span style=\"color: #000000; text-decoration-color: #000000\">=</span><span style=\"color: #008000; text-decoration-color: #008000\">\"viewport\"</span><span style=\"color: #000000; text-decoration-color: #000000\"> </span><span style=\"color: #808000; text-decoration-color: #808000\">content</span><span style=\"color: #000000; text-decoration-color: #000000\">=</span><span style=\"color: #008000; text-decoration-color: #008000\">\"width=device-width, initial-scale=1\"</span><span style=\"color: #000000; text-decoration-color: #000000\">&gt;</span>\n",
       "<span style=\"color: #000000; text-decoration-color: #000000\">        &lt;meta http-</span><span style=\"color: #808000; text-decoration-color: #808000\">equiv</span><span style=\"color: #000000; text-decoration-color: #000000\">=</span><span style=\"color: #008000; text-decoration-color: #008000\">\"X-UA-Compatible\"</span><span style=\"color: #000000; text-decoration-color: #000000\"> </span><span style=\"color: #808000; text-decoration-color: #808000\">content</span><span style=\"color: #000000; text-decoration-color: #000000\">=</span><span style=\"color: #008000; text-decoration-color: #008000\">\"IE=edge\"</span><span style=\"color: #000000; text-decoration-color: #000000\">&gt;</span>\n",
       "<span style=\"color: #000000; text-decoration-color: #000000\">        &lt;style&gt;img:</span><span style=\"color: #800080; text-decoration-color: #800080; font-weight: bold\">is</span><span style=\"color: #000000; text-decoration-color: #000000; font-weight: bold\">(</span><span style=\"color: #000000; text-decoration-color: #000000\">, </span><span style=\"color: #000000; text-decoration-color: #000000; font-weight: bold\">)</span><span style=\"color: #000000; text-decoration-color: #000000\"> </span><span style=\"color: #000000; text-decoration-color: #000000; font-weight: bold\">{</span><span style=\"color: #000000; text-decoration-color: #000000\"> contain-intrinsic-size: 3000px 1500px </span><span style=\"color: #000000; text-decoration-color: #000000; font-weight: bold\">}</span><span style=\"color: #000000; text-decoration-color: #000000\">&lt;</span><span style=\"color: #800080; text-decoration-color: #800080\">/</span><span style=\"color: #ff00ff; text-decoration-color: #ff00ff\">style</span><span style=\"color: #000000; text-decoration-color: #000000\">&gt;</span>\n",
       "<span style=\"color: #000000; text-decoration-color: #000000\">        </span>\n",
       "<span style=\"color: #000000; text-decoration-color: #000000\">                &lt;!-- All in One SEO </span><span style=\"color: #008080; text-decoration-color: #008080; font-weight: bold\">4.8</span><span style=\"color: #000000; text-decoration-color: #000000\">.</span><span style=\"color: #008080; text-decoration-color: #008080; font-weight: bold\">0</span><span style=\"color: #000000; text-decoration-color: #000000\"> - aioseo.com --</span><span style=\"font-weight: bold\">&gt;</span>\n",
       "        &lt;meta <span style=\"color: #808000; text-decoration-color: #808000\">name</span>=<span style=\"color: #008000; text-decoration-color: #008000\">\"description\"</span> <span style=\"color: #808000; text-decoration-color: #808000\">content</span>=<span style=\"color: #800080; text-decoration-color: #800080\">\"Emergency</span> Responders <span style=\"font-weight: bold\">(</span>E\n",
       "</pre>\n"
      ],
      "text/plain": [
       "\u001b[1m<\u001b[0m\u001b[39m!DOCTYPE html>\u001b[0m\n",
       "\n",
       "\u001b[39m<!--\u001b[0m\u001b[39m>\u001b[0m\n",
       "\u001b[39m    <html \u001b[0m\u001b[33mclass\u001b[0m\u001b[39m=\u001b[0m\u001b[32m\"lt\u001b[0m\u001b[32m-ie9\"\u001b[0m\u001b[39m \u001b[0m\u001b[33mlang\u001b[0m\u001b[39m=\u001b[0m\u001b[32m\"en\"\u001b[0m\u001b[39m>\u001b[0m\n",
       "\u001b[39m    <!\u001b[0m\u001b[39m-->\u001b[0m\n",
       "\u001b[39m<!--\u001b[0m\u001b[39m>\u001b[0m\n",
       "\u001b[39m        <!-->\u001b[0m\n",
       "\u001b[39m<html \u001b[0m\u001b[33mlang\u001b[0m\u001b[39m=\u001b[0m\u001b[32m\"en\"\u001b[0m\u001b[39m>\u001b[0m\n",
       "\u001b[39m<!--<!\u001b[0m\u001b[39m-->\u001b[0m\n",
       "\n",
       "\u001b[39m<head>\u001b[0m\n",
       "\n",
       "\u001b[39m    <meta \u001b[0m\u001b[33mname\u001b[0m\u001b[39m=\u001b[0m\u001b[32m\"viewport\"\u001b[0m\u001b[39m \u001b[0m\u001b[33mcontent\u001b[0m\u001b[39m=\u001b[0m\u001b[32m\"width\u001b[0m\u001b[32m=device-width, initial-\u001b[0m\u001b[32mscale\u001b[0m\u001b[32m=\u001b[0m\u001b[32m1\"\u001b[0m\u001b[39m>\u001b[0m\n",
       "\u001b[39m        \u001b[0m\u001b[39m<meta http-\u001b[0m\u001b[33mequiv\u001b[0m\u001b[39m=\u001b[0m\u001b[32m\"X\u001b[0m\u001b[32m-UA-Compatible\"\u001b[0m\u001b[39m \u001b[0m\u001b[33mcontent\u001b[0m\u001b[39m=\u001b[0m\u001b[32m\"IE\u001b[0m\u001b[32m=edge\"\u001b[0m\u001b[39m>\u001b[0m\n",
       "\u001b[39m        \u001b[0m\u001b[39m<style>img:\u001b[0m\u001b[1;35mis\u001b[0m\u001b[1;39m(\u001b[0m\u001b[39m, \u001b[0m\u001b[1;39m)\u001b[0m\u001b[39m \u001b[0m\u001b[1;39m{\u001b[0m\u001b[39m contain-intrinsic-size: 3000px 1500px \u001b[0m\u001b[1;39m}\u001b[0m\u001b[39m<\u001b[0m\u001b[35m/\u001b[0m\u001b[95mstyle\u001b[0m\u001b[39m>\u001b[0m\n",
       "\u001b[39m        \u001b[0m\n",
       "\u001b[39m        \u001b[0m\u001b[39m        \u001b[0m\u001b[39m<!-- All in One SEO \u001b[0m\u001b[1;36m4.8\u001b[0m\u001b[39m.\u001b[0m\u001b[1;36m0\u001b[0m\u001b[39m - aioseo.com --\u001b[0m\u001b[1m>\u001b[0m\n",
       "        <meta \u001b[33mname\u001b[0m=\u001b[32m\"description\"\u001b[0m \u001b[33mcontent\u001b[0m=\u001b[35m\"Emergency\u001b[0m Responders \u001b[1m(\u001b[0mE\n"
      ]
     },
     "metadata": {},
     "output_type": "display_data"
    }
   ],
   "source": [
    "if response.status_code == 200:\n",
    "    # Return the HTML content of the page\n",
    "    print(response.text[:500])\n",
    "else:\n",
    "    print(f\"Failed to retrieve the page. Status code: {response.status_code}\")\n"
   ]
  },
  {
   "cell_type": "code",
   "execution_count": 13,
   "metadata": {},
   "outputs": [],
   "source": [
    "from nltk.corpus import reuters\n",
    "from nltk import bigrams, trigrams\n",
    "from collections import Counter, defaultdict\n",
    "import nltk\n",
    "from nltk.tokenize import sent_tokenize\n",
    "\n",
    "# nltk.download('reuters')\n",
    "# nltk.download('punkt')\n",
    "# nltk.download('punkt_tab')"
   ]
  },
  {
   "cell_type": "code",
   "execution_count": 14,
   "metadata": {},
   "outputs": [
    {
     "data": {
      "text/plain": [
       "[\"ASIAN EXPORTERS FEAR DAMAGE FROM U.S.-JAPAN RIFT\\n  Mounting trade friction between the\\n  U.S. And Japan has raised fears among many of Asia's exporting\\n  nations that the row could inflict far-reaching economic\\n  damage, businessmen and officials said.\",\n",
       " 'They told Reuter correspondents in Asian capitals a U.S.\\n  Move against Japan might boost protectionist sentiment in the\\n  U.S. And lead to curbs on American imports of their products.',\n",
       " \"But some exporters said that while the conflict would hurt\\n  them in the long-run, in the short-term Tokyo's loss might be\\n  their gain.\",\n",
       " \"The U.S. Has said it will impose 300 mln dlrs of tariffs on\\n  imports of Japanese electronics goods on April 17, in\\n  retaliation for Japan's alleged failure to stick to a pact not\\n  to sell semiconductors on world markets at below cost.\",\n",
       " 'Unofficial Japanese estimates put the impact of the tariffs\\n  at 10 billion dlrs and spokesmen for major electronics firms\\n  said they would virtually halt exports of products hit by the\\n  new taxes.']"
      ]
     },
     "execution_count": 14,
     "metadata": {},
     "output_type": "execute_result"
    }
   ],
   "source": [
    "# Get the raw text from the reuters corpus\n",
    "raw_text = ' '.join(reuters.raw(fileid) for fileid in reuters.fileids())\n",
    "\n",
    "# Tokenize the raw text into sentences\n",
    "sentences = sent_tokenize(raw_text)\n",
    "\n",
    "sentences[:5]"
   ]
  },
  {
   "cell_type": "code",
   "execution_count": 15,
   "metadata": {},
   "outputs": [
    {
     "data": {
      "text/html": [
       "<pre style=\"white-space:pre;overflow-x:auto;line-height:normal;font-family:Menlo,'DejaVu Sans Mono',consolas,'Courier New',monospace\"><span style=\"font-weight: bold\">{</span>\n",
       "    <span style=\"color: #008000; text-decoration-color: #008000\">'public'</span>: <span style=\"color: #008080; text-decoration-color: #008080; font-weight: bold\">0.05555555555555555</span>,\n",
       "    <span style=\"color: #008000; text-decoration-color: #008000\">'European'</span>: <span style=\"color: #008080; text-decoration-color: #008080; font-weight: bold\">0.05555555555555555</span>,\n",
       "    <span style=\"color: #008000; text-decoration-color: #008000\">'Bank'</span>: <span style=\"color: #008080; text-decoration-color: #008080; font-weight: bold\">0.05555555555555555</span>,\n",
       "    <span style=\"color: #008000; text-decoration-color: #008000\">'price'</span>: <span style=\"color: #008080; text-decoration-color: #008080; font-weight: bold\">0.1111111111111111</span>,\n",
       "    <span style=\"color: #008000; text-decoration-color: #008000\">'emirate'</span>: <span style=\"color: #008080; text-decoration-color: #008080; font-weight: bold\">0.05555555555555555</span>,\n",
       "    <span style=\"color: #008000; text-decoration-color: #008000\">'overseas'</span>: <span style=\"color: #008080; text-decoration-color: #008080; font-weight: bold\">0.05555555555555555</span>,\n",
       "    <span style=\"color: #008000; text-decoration-color: #008000\">'newspaper'</span>: <span style=\"color: #008080; text-decoration-color: #008080; font-weight: bold\">0.05555555555555555</span>,\n",
       "    <span style=\"color: #008000; text-decoration-color: #008000\">'company'</span>: <span style=\"color: #008080; text-decoration-color: #008080; font-weight: bold\">0.16666666666666666</span>,\n",
       "    <span style=\"color: #008000; text-decoration-color: #008000\">'Turkish'</span>: <span style=\"color: #008080; text-decoration-color: #008080; font-weight: bold\">0.05555555555555555</span>,\n",
       "    <span style=\"color: #008000; text-decoration-color: #008000\">'increase'</span>: <span style=\"color: #008080; text-decoration-color: #008080; font-weight: bold\">0.05555555555555555</span>,\n",
       "    <span style=\"color: #008000; text-decoration-color: #008000\">'options'</span>: <span style=\"color: #008080; text-decoration-color: #008080; font-weight: bold\">0.05555555555555555</span>,\n",
       "    <span style=\"color: #008000; text-decoration-color: #008000\">'Higher'</span>: <span style=\"color: #008080; text-decoration-color: #008080; font-weight: bold\">0.05555555555555555</span>,\n",
       "    <span style=\"color: #008000; text-decoration-color: #008000\">'pound'</span>: <span style=\"color: #008080; text-decoration-color: #008080; font-weight: bold\">0.05555555555555555</span>,\n",
       "    <span style=\"color: #008000; text-decoration-color: #008000\">'Italian'</span>: <span style=\"color: #008080; text-decoration-color: #008080; font-weight: bold\">0.05555555555555555</span>,\n",
       "    <span style=\"color: #008000; text-decoration-color: #008000\">'time'</span>: <span style=\"color: #008080; text-decoration-color: #008080; font-weight: bold\">0.05555555555555555</span>\n",
       "<span style=\"font-weight: bold\">}</span>\n",
       "</pre>\n"
      ],
      "text/plain": [
       "\u001b[1m{\u001b[0m\n",
       "    \u001b[32m'public'\u001b[0m: \u001b[1;36m0.05555555555555555\u001b[0m,\n",
       "    \u001b[32m'European'\u001b[0m: \u001b[1;36m0.05555555555555555\u001b[0m,\n",
       "    \u001b[32m'Bank'\u001b[0m: \u001b[1;36m0.05555555555555555\u001b[0m,\n",
       "    \u001b[32m'price'\u001b[0m: \u001b[1;36m0.1111111111111111\u001b[0m,\n",
       "    \u001b[32m'emirate'\u001b[0m: \u001b[1;36m0.05555555555555555\u001b[0m,\n",
       "    \u001b[32m'overseas'\u001b[0m: \u001b[1;36m0.05555555555555555\u001b[0m,\n",
       "    \u001b[32m'newspaper'\u001b[0m: \u001b[1;36m0.05555555555555555\u001b[0m,\n",
       "    \u001b[32m'company'\u001b[0m: \u001b[1;36m0.16666666666666666\u001b[0m,\n",
       "    \u001b[32m'Turkish'\u001b[0m: \u001b[1;36m0.05555555555555555\u001b[0m,\n",
       "    \u001b[32m'increase'\u001b[0m: \u001b[1;36m0.05555555555555555\u001b[0m,\n",
       "    \u001b[32m'options'\u001b[0m: \u001b[1;36m0.05555555555555555\u001b[0m,\n",
       "    \u001b[32m'Higher'\u001b[0m: \u001b[1;36m0.05555555555555555\u001b[0m,\n",
       "    \u001b[32m'pound'\u001b[0m: \u001b[1;36m0.05555555555555555\u001b[0m,\n",
       "    \u001b[32m'Italian'\u001b[0m: \u001b[1;36m0.05555555555555555\u001b[0m,\n",
       "    \u001b[32m'time'\u001b[0m: \u001b[1;36m0.05555555555555555\u001b[0m\n",
       "\u001b[1m}\u001b[0m\n"
      ]
     },
     "metadata": {},
     "output_type": "display_data"
    },
    {
     "data": {
      "text/html": [
       "<pre style=\"white-space:pre;overflow-x:auto;line-height:normal;font-family:Menlo,'DejaVu Sans Mono',consolas,'Courier New',monospace\"><span style=\"font-weight: bold\">{</span><span style=\"color: #008000; text-decoration-color: #008000\">'hoped'</span>: <span style=\"color: #008080; text-decoration-color: #008080; font-weight: bold\">0.3333333333333333</span>, <span style=\"color: #008000; text-decoration-color: #008000\">'announced'</span>: <span style=\"color: #008080; text-decoration-color: #008080; font-weight: bold\">0.3333333333333333</span>, <span style=\"color: #008000; text-decoration-color: #008000\">'proposed'</span>: <span style=\"color: #008080; text-decoration-color: #008080; font-weight: bold\">0.3333333333333333</span><span style=\"font-weight: bold\">}</span>\n",
       "</pre>\n"
      ],
      "text/plain": [
       "\u001b[1m{\u001b[0m\u001b[32m'hoped'\u001b[0m: \u001b[1;36m0.3333333333333333\u001b[0m, \u001b[32m'announced'\u001b[0m: \u001b[1;36m0.3333333333333333\u001b[0m, \u001b[32m'proposed'\u001b[0m: \u001b[1;36m0.3333333333333333\u001b[0m\u001b[1m}\u001b[0m\n"
      ]
     },
     "metadata": {},
     "output_type": "display_data"
    }
   ],
   "source": [
    "# Create a placeholder for model\n",
    "model2 = defaultdict(lambda: defaultdict(lambda: 0))\n",
    "model3 = defaultdict(lambda: defaultdict(lambda: 0))\n",
    "\n",
    "# Count frequency of co-occurance  \n",
    "for sentence in reuters.sents():\n",
    "    for w1, w2, w3 in trigrams(sentence, pad_right=True, pad_left=True):\n",
    "        model2[(w1, w2)][w3] += 1\n",
    "    for w1, w2, w3, w4 in nltk.ngrams(sentence, 4, pad_right=True, pad_left=True):\n",
    "        model3[(w1, w2, w3)][w4] += 1\n",
    "\n",
    "# Let's transform the counts to probabilities\n",
    "for w1_w2 in model2:\n",
    "    total_count = float(sum(model2[w1_w2].values()))\n",
    "    for w3 in model2[w1_w2]:\n",
    "        model2[w1_w2][w3] /= total_count\n",
    "\n",
    "for w1_w2_w3 in model3:\n",
    "    total_count = float(sum(model3[w1_w2_w3].values()))\n",
    "    for w4 in model3[w1_w2_w3]:\n",
    "        model3[w1_w2_w3][w4] /= total_count\n",
    "\n",
    "print(dict(model2['today', 'the']))\n",
    "print(dict(model3['today', 'the', 'company']))\n"
   ]
  },
  {
   "cell_type": "code",
   "execution_count": 16,
   "metadata": {},
   "outputs": [
    {
     "data": {
      "text/html": [
       "<pre style=\"white-space:pre;overflow-x:auto;line-height:normal;font-family:Menlo,'DejaVu Sans Mono',consolas,'Courier New',monospace\">No word found\n",
       "</pre>\n"
      ],
      "text/plain": [
       "No word found\n"
      ]
     },
     "metadata": {},
     "output_type": "display_data"
    },
    {
     "data": {
      "text/html": [
       "<pre style=\"white-space:pre;overflow-x:auto;line-height:normal;font-family:Menlo,'DejaVu Sans Mono',consolas,'Courier New',monospace\">today the increase was entirely explained by world market conditions .\n",
       "</pre>\n"
      ],
      "text/plain": [
       "today the increase was entirely explained by world market conditions .\n"
      ]
     },
     "metadata": {},
     "output_type": "display_data"
    }
   ],
   "source": [
    "import random\n",
    "\n",
    "# starting words\n",
    "text = [\"today\", \"the\"]\n",
    "sentence_finished = False\n",
    "\n",
    "while not sentence_finished:\n",
    "    # select a random probability threshold  \n",
    "    r = random.random()\n",
    "    accumulator = .0\n",
    "    word_found = False\n",
    "\n",
    "    for word in model3[tuple(text[-3:])].keys():\n",
    "        accumulator += model3[tuple(text[-3:])][word]\n",
    "        # select words that are above the probability threshold\n",
    "        if accumulator >= r:\n",
    "            text.append(word)\n",
    "            word_found = True\n",
    "            break\n",
    "\n",
    "    if not word_found:\n",
    "        print('No word found')\n",
    "        for word in model2[tuple(text[-2:])].keys():\n",
    "            accumulator += model2[tuple(text[-2:])][word]\n",
    "            # select words that are above the probability threshold\n",
    "            if accumulator >= r:\n",
    "                text.append(word)\n",
    "                break\n",
    "\n",
    "    if text[-2:] == [None, None]:\n",
    "        sentence_finished = True\n",
    "    \n",
    "print (' '.join([t for t in text if t]))"
   ]
  },
  {
   "cell_type": "code",
   "execution_count": 8,
   "metadata": {},
   "outputs": [],
   "source": [
    "data_text = \"\"\"The unanimous Declaration of the thirteen united States of America, When in the Course of human events, it becomes necessary for one people to dissolve the political bands which have connected them with another, and to assume among the powers of the earth, the separate and equal station to which the Laws of Nature and of Nature's God entitle them, a decent respect to the opinions of mankind requires that they should declare the causes which impel them to the separation.\n",
    "\n",
    "We hold these truths to be self-evident, that all men are created equal, that they are endowed by their Creator with certain unalienable Rights, that among these are Life, Liberty and the pursuit of Happiness.--That to secure these rights, Governments are instituted among Men, deriving their just powers from the consent of the governed, --That whenever any Form of Government becomes destructive of these ends, it is the Right of the People to alter or to abolish it, and to institute new Government, laying its foundation on such principles and organizing its powers in such form, as to them shall seem most likely to effect their Safety and Happiness. Prudence, indeed, will dictate that Governments long established should not be changed for light and transient causes; and accordingly all experience hath shewn, that mankind are more disposed to suffer, while evils are sufferable, than to right themselves by abolishing the forms to which they are accustomed. But when a long train of abuses and usurpations, pursuing invariably the same Object evinces a design to reduce them under absolute Despotism, it is their right, it is their duty, to throw off such Government, and to provide new Guards for their future security.--Such has been the patient sufferance of these Colonies; and such is now the necessity which constrains them to alter their former Systems of Government. The history of the present King of Great Britain is a history of repeated injuries and usurpations, all having in direct object the establishment of an absolute Tyranny over these States. To prove this, let Facts be submitted to a candid world.\n",
    "\n",
    "He has refused his Assent to Laws, the most wholesome and necessary for the public good.\n",
    "\n",
    "He has forbidden his Governors to pass Laws of immediate and pressing importance, unless suspended in their operation till his Assent should be obtained; and when so suspended, he has utterly neglected to attend to them.\n",
    "\n",
    "He has refused to pass other Laws for the accommodation of large districts of people, unless those people would relinquish the right of Representation in the Legislature, a right inestimable to them and formidable to tyrants only.\n",
    "\n",
    "He has called together legislative bodies at places unusual, uncomfortable, and distant from the depository of their public Records, for the sole purpose of fatiguing them into compliance with his measures.\n",
    "\n",
    "He has dissolved Representative Houses repeatedly, for opposing with manly firmness his invasions on the rights of the people.\n",
    "\n",
    "He has refused for a long time, after such dissolutions, to cause others to be elected; whereby the Legislative powers, incapable of Annihilation, have returned to the People at large for their exercise; the State remaining in the mean time exposed to all the dangers of invasion from without, and convulsions within.\n",
    "\n",
    "He has endeavoured to prevent the population of these States; for that purpose obstructing the Laws for Naturalization of Foreigners; refusing to pass others to encourage their migrations hither, and raising the conditions of new Appropriations of Lands.\n",
    "\n",
    "He has obstructed the Administration of Justice, by refusing his Assent to Laws for establishing Judiciary powers.\n",
    "\n",
    "He has made Judges dependent on his Will alone, for the tenure of their offices, and the amount and payment of their salaries.\n",
    "\n",
    "He has erected a multitude of New Offices, and sent hither swarms of Officers to harrass our people, and eat out their substance.\n",
    "\n",
    "He has kept among us, in times of peace, Standing Armies without the Consent of our legislatures.\n",
    "\n",
    "He has affected to render the Military independent of and superior to the Civil power.\n",
    "\n",
    "He has combined with others to subject us to a jurisdiction foreign to our constitution, and unacknowledged by our laws; giving his Assent to their Acts of pretended Legislation:\n",
    "\n",
    "For Quartering large bodies of armed troops among us:\n",
    "\n",
    "For protecting them, by a mock Trial, from punishment for any Murders which they should commit on the Inhabitants of these States:\n",
    "\n",
    "For cutting off our Trade with all parts of the world:\n",
    "\n",
    "For imposing Taxes on us without our Consent:\n",
    "\n",
    "For depriving us in many cases, of the benefits of Trial by Jury:\n",
    "\n",
    "For transporting us beyond Seas to be tried for pretended offences\n",
    "\n",
    "For abolishing the free System of English Laws in a neighbouring Province, establishing therein an Arbitrary government, and enlarging its Boundaries so as to render it at once an example and fit instrument for introducing the same absolute rule into these Colonies:\n",
    "\n",
    "For taking away our Charters, abolishing our most valuable Laws, and altering fundamentally the Forms of our Governments:\n",
    "\n",
    "For suspending our own Legislatures, and declaring themselves invested with power to legislate for us in all cases whatsoever.\n",
    "\n",
    "He has abdicated Government here, by declaring us out of his Protection and waging War against us.\n",
    "\n",
    "He has plundered our seas, ravaged our Coasts, burnt our towns, and destroyed the lives of our people.\n",
    "\n",
    "He is at this time transporting large Armies of foreign Mercenaries to compleat the works of death, desolation and tyranny, already begun with circumstances of Cruelty & perfidy scarcely paralleled in the most barbarous ages, and totally unworthy the Head of a civilized nation.\n",
    "\n",
    "He has constrained our fellow Citizens taken Captive on the high Seas to bear Arms against their Country, to become the executioners of their friends and Brethren, or to fall themselves by their Hands.\n",
    "\n",
    "He has excited domestic insurrections amongst us, and has endeavoured to bring on the inhabitants of our frontiers, the merciless Indian Savages, whose known rule of warfare, is an undistinguished destruction of all ages, sexes and conditions.\n",
    "\n",
    "In every stage of these Oppressions We have Petitioned for Redress in the most humble terms: Our repeated Petitions have been answered only by repeated injury. A Prince whose character is thus marked by every act which may define a Tyrant, is unfit to be the ruler of a free people.\n",
    "\n",
    "Nor have We been wanting in attentions to our Brittish brethren. We have warned them from time to time of attempts by their legislature to extend an unwarrantable jurisdiction over us. We have reminded them of the circumstances of our emigration and settlement here. We have appealed to their native justice and magnanimity, and we have conjured them by the ties of our common kindred to disavow these usurpations, which, would inevitably interrupt our connections and correspondence. They too have been deaf to the voice of justice and of consanguinity. We must, therefore, acquiesce in the necessity, which denounces our Separation, and hold them, as we hold the rest of mankind, Enemies in War, in Peace Friends.\n",
    "\n",
    "We, therefore, the Representatives of the united States of America, in General Congress, Assembled, appealing to the Supreme Judge of the world for the rectitude of our intentions, do, in the Name, and by Authority of the good People of these Colonies, solemnly publish and declare, That these United Colonies are, and of Right ought to be Free and Independent States; that they are Absolved from all Allegiance to the British Crown, and that all political connection between them and the State of Great Britain, is and ought to be totally dissolved; and that as Free and Independent States, they have full Power to levy War, conclude Peace, contract Alliances, establish Commerce, and to do all other Acts and Things which Independent States may of right do. And for the support of this Declaration, with a firm reliance on the protection of divine Providence, we mutually pledge to each other our Lives, our Fortunes and our sacred Honor.\"\"\""
   ]
  },
  {
   "cell_type": "code",
   "execution_count": 9,
   "metadata": {},
   "outputs": [],
   "source": [
    "import numpy as np\n",
    "import pandas as pd\n",
    "from keras.utils import to_categorical\n",
    "from keras.preprocessing.sequence import pad_sequences\n",
    "from keras.models import Sequential\n",
    "from keras.layers import LSTM, Dense, GRU, Embedding\n",
    "from keras.callbacks import EarlyStopping, ModelCheckpoint"
   ]
  },
  {
   "cell_type": "code",
   "execution_count": 10,
   "metadata": {},
   "outputs": [],
   "source": [
    "import re\n",
    "\n",
    "def text_cleaner(text):\n",
    "    # lower case text\n",
    "    newString = text.lower()\n",
    "    newString = re.sub(r\"'s\\b\",\"\",newString)\n",
    "    # remove punctuations\n",
    "    newString = re.sub(\"[^a-zA-Z]\", \" \", newString) \n",
    "    long_words=[]\n",
    "    # remove short word\n",
    "    for i in newString.split():\n",
    "        if len(i)>=3:                  \n",
    "            long_words.append(i)\n",
    "    return (\" \".join(long_words)).strip()\n",
    "\n",
    "# preprocess the text\n",
    "data_new = text_cleaner(data_text)"
   ]
  },
  {
   "cell_type": "code",
   "execution_count": 11,
   "metadata": {},
   "outputs": [
    {
     "name": "stdout",
     "output_type": "stream",
     "text": [
      "Total Sequences: 7052\n"
     ]
    }
   ],
   "source": [
    "def create_seq(text):\n",
    "    length = 30\n",
    "    sequences = list()\n",
    "    for i in range(length, len(text)):\n",
    "        # select sequence of tokens\n",
    "        seq = text[i-length:i+1]\n",
    "        # store\n",
    "        sequences.append(seq)\n",
    "    print('Total Sequences: %d' % len(sequences))\n",
    "    return sequences\n",
    "\n",
    "# create sequences   \n",
    "sequences = create_seq(data_new)"
   ]
  },
  {
   "cell_type": "code",
   "execution_count": 13,
   "metadata": {},
   "outputs": [],
   "source": [
    "# create a character mapping index\n",
    "chars = sorted(list(set(data_new)))\n",
    "mapping = dict((c, i) for i, c in enumerate(chars))\n",
    "\n",
    "def encode_seq(seq):\n",
    "    sequences = list()\n",
    "    for line in seq:\n",
    "        # integer encode line\n",
    "        encoded_seq = [mapping[char] for char in line]\n",
    "        # store\n",
    "        sequences.append(encoded_seq)\n",
    "    return sequences\n",
    "\n",
    "# encode the sequences\n",
    "sequences = encode_seq(sequences)"
   ]
  },
  {
   "cell_type": "code",
   "execution_count": 15,
   "metadata": {},
   "outputs": [
    {
     "name": "stdout",
     "output_type": "stream",
     "text": [
      "Train shape: (6346, 30) Val shape: (706, 30)\n"
     ]
    }
   ],
   "source": [
    "from sklearn.model_selection import train_test_split\n",
    "\n",
    "# vocabulary size\n",
    "vocab = len(mapping)\n",
    "sequences = np.array(sequences)\n",
    "# create X and y\n",
    "X, y = sequences[:,:-1], sequences[:,-1]\n",
    "# one hot encode y\n",
    "y = to_categorical(y, num_classes=vocab)\n",
    "# create train and validation sets\n",
    "X_tr, X_val, y_tr, y_val = train_test_split(X, y, test_size=0.1, random_state=42)\n",
    "\n",
    "print('Train shape:', X_tr.shape, 'Val shape:', X_val.shape)"
   ]
  },
  {
   "cell_type": "code",
   "execution_count": null,
   "metadata": {},
   "outputs": [
    {
     "name": "stderr",
     "output_type": "stream",
     "text": [
      "/Users/elenafaillace/Documents/all_code/LM-links-app/.venv/lib/python3.12/site-packages/keras/src/layers/core/embedding.py:90: UserWarning: Argument `input_length` is deprecated. Just remove it.\n",
      "  warnings.warn(\n"
     ]
    },
    {
     "data": {
      "text/html": [
       "<pre style=\"white-space:pre;overflow-x:auto;line-height:normal;font-family:Menlo,'DejaVu Sans Mono',consolas,'Courier New',monospace\"><span style=\"font-weight: bold\">Model: \"sequential\"</span>\n",
       "</pre>\n"
      ],
      "text/plain": [
       "\u001b[1mModel: \"sequential\"\u001b[0m\n"
      ]
     },
     "metadata": {},
     "output_type": "display_data"
    },
    {
     "data": {
      "text/html": [
       "<pre style=\"white-space:pre;overflow-x:auto;line-height:normal;font-family:Menlo,'DejaVu Sans Mono',consolas,'Courier New',monospace\">┏━━━━━━━━━━━━━━━━━━━━━━━━━━━━━━━━━┳━━━━━━━━━━━━━━━━━━━━━━━━┳━━━━━━━━━━━━━━━┓\n",
       "┃<span style=\"font-weight: bold\"> Layer (type)                    </span>┃<span style=\"font-weight: bold\"> Output Shape           </span>┃<span style=\"font-weight: bold\">       Param # </span>┃\n",
       "┡━━━━━━━━━━━━━━━━━━━━━━━━━━━━━━━━━╇━━━━━━━━━━━━━━━━━━━━━━━━╇━━━━━━━━━━━━━━━┩\n",
       "│ embedding (<span style=\"color: #0087ff; text-decoration-color: #0087ff\">Embedding</span>)           │ ?                      │   <span style=\"color: #00af00; text-decoration-color: #00af00\">0</span> (unbuilt) │\n",
       "├─────────────────────────────────┼────────────────────────┼───────────────┤\n",
       "│ gru (<span style=\"color: #0087ff; text-decoration-color: #0087ff\">GRU</span>)                       │ ?                      │   <span style=\"color: #00af00; text-decoration-color: #00af00\">0</span> (unbuilt) │\n",
       "├─────────────────────────────────┼────────────────────────┼───────────────┤\n",
       "│ dense (<span style=\"color: #0087ff; text-decoration-color: #0087ff\">Dense</span>)                   │ ?                      │   <span style=\"color: #00af00; text-decoration-color: #00af00\">0</span> (unbuilt) │\n",
       "└─────────────────────────────────┴────────────────────────┴───────────────┘\n",
       "</pre>\n"
      ],
      "text/plain": [
       "┏━━━━━━━━━━━━━━━━━━━━━━━━━━━━━━━━━┳━━━━━━━━━━━━━━━━━━━━━━━━┳━━━━━━━━━━━━━━━┓\n",
       "┃\u001b[1m \u001b[0m\u001b[1mLayer (type)                   \u001b[0m\u001b[1m \u001b[0m┃\u001b[1m \u001b[0m\u001b[1mOutput Shape          \u001b[0m\u001b[1m \u001b[0m┃\u001b[1m \u001b[0m\u001b[1m      Param #\u001b[0m\u001b[1m \u001b[0m┃\n",
       "┡━━━━━━━━━━━━━━━━━━━━━━━━━━━━━━━━━╇━━━━━━━━━━━━━━━━━━━━━━━━╇━━━━━━━━━━━━━━━┩\n",
       "│ embedding (\u001b[38;5;33mEmbedding\u001b[0m)           │ ?                      │   \u001b[38;5;34m0\u001b[0m (unbuilt) │\n",
       "├─────────────────────────────────┼────────────────────────┼───────────────┤\n",
       "│ gru (\u001b[38;5;33mGRU\u001b[0m)                       │ ?                      │   \u001b[38;5;34m0\u001b[0m (unbuilt) │\n",
       "├─────────────────────────────────┼────────────────────────┼───────────────┤\n",
       "│ dense (\u001b[38;5;33mDense\u001b[0m)                   │ ?                      │   \u001b[38;5;34m0\u001b[0m (unbuilt) │\n",
       "└─────────────────────────────────┴────────────────────────┴───────────────┘\n"
      ]
     },
     "metadata": {},
     "output_type": "display_data"
    },
    {
     "data": {
      "text/html": [
       "<pre style=\"white-space:pre;overflow-x:auto;line-height:normal;font-family:Menlo,'DejaVu Sans Mono',consolas,'Courier New',monospace\"><span style=\"font-weight: bold\"> Total params: </span><span style=\"color: #00af00; text-decoration-color: #00af00\">0</span> (0.00 B)\n",
       "</pre>\n"
      ],
      "text/plain": [
       "\u001b[1m Total params: \u001b[0m\u001b[38;5;34m0\u001b[0m (0.00 B)\n"
      ]
     },
     "metadata": {},
     "output_type": "display_data"
    },
    {
     "data": {
      "text/html": [
       "<pre style=\"white-space:pre;overflow-x:auto;line-height:normal;font-family:Menlo,'DejaVu Sans Mono',consolas,'Courier New',monospace\"><span style=\"font-weight: bold\"> Trainable params: </span><span style=\"color: #00af00; text-decoration-color: #00af00\">0</span> (0.00 B)\n",
       "</pre>\n"
      ],
      "text/plain": [
       "\u001b[1m Trainable params: \u001b[0m\u001b[38;5;34m0\u001b[0m (0.00 B)\n"
      ]
     },
     "metadata": {},
     "output_type": "display_data"
    },
    {
     "data": {
      "text/html": [
       "<pre style=\"white-space:pre;overflow-x:auto;line-height:normal;font-family:Menlo,'DejaVu Sans Mono',consolas,'Courier New',monospace\"><span style=\"font-weight: bold\"> Non-trainable params: </span><span style=\"color: #00af00; text-decoration-color: #00af00\">0</span> (0.00 B)\n",
       "</pre>\n"
      ],
      "text/plain": [
       "\u001b[1m Non-trainable params: \u001b[0m\u001b[38;5;34m0\u001b[0m (0.00 B)\n"
      ]
     },
     "metadata": {},
     "output_type": "display_data"
    },
    {
     "name": "stdout",
     "output_type": "stream",
     "text": [
      "None\n",
      "Epoch 1/100\n",
      "199/199 - 7s - 37ms/step - acc: 0.2140 - loss: 2.7157 - val_acc: 0.3229 - val_loss: 2.3918\n",
      "Epoch 2/100\n",
      "199/199 - 6s - 31ms/step - acc: 0.3301 - loss: 2.2801 - val_acc: 0.3442 - val_loss: 2.2457\n",
      "Epoch 3/100\n",
      "199/199 - 6s - 31ms/step - acc: 0.3612 - loss: 2.1555 - val_acc: 0.3669 - val_loss: 2.1527\n",
      "Epoch 4/100\n",
      "199/199 - 6s - 29ms/step - acc: 0.3854 - loss: 2.0562 - val_acc: 0.3909 - val_loss: 2.0874\n",
      "Epoch 5/100\n",
      "199/199 - 6s - 29ms/step - acc: 0.4092 - loss: 1.9762 - val_acc: 0.4136 - val_loss: 2.0267\n",
      "Epoch 6/100\n",
      "199/199 - 6s - 30ms/step - acc: 0.4338 - loss: 1.8940 - val_acc: 0.4433 - val_loss: 1.9926\n",
      "Epoch 7/100\n",
      "199/199 - 6s - 30ms/step - acc: 0.4502 - loss: 1.8153 - val_acc: 0.4575 - val_loss: 1.9643\n",
      "Epoch 8/100\n",
      "199/199 - 6s - 30ms/step - acc: 0.4754 - loss: 1.7385 - val_acc: 0.4632 - val_loss: 1.9249\n",
      "Epoch 9/100\n",
      "199/199 - 6s - 30ms/step - acc: 0.4931 - loss: 1.6745 - val_acc: 0.4646 - val_loss: 1.8951\n",
      "Epoch 10/100\n",
      "199/199 - 6s - 30ms/step - acc: 0.5203 - loss: 1.6012 - val_acc: 0.4575 - val_loss: 1.8931\n",
      "Epoch 11/100\n",
      "199/199 - 6s - 30ms/step - acc: 0.5362 - loss: 1.5327 - val_acc: 0.4674 - val_loss: 1.8840\n",
      "Epoch 12/100\n",
      "199/199 - 6s - 30ms/step - acc: 0.5511 - loss: 1.4588 - val_acc: 0.4788 - val_loss: 1.8879\n",
      "Epoch 13/100\n",
      "199/199 - 6s - 30ms/step - acc: 0.5730 - loss: 1.3943 - val_acc: 0.4816 - val_loss: 1.8810\n",
      "Epoch 14/100\n",
      "199/199 - 6s - 30ms/step - acc: 0.5840 - loss: 1.3392 - val_acc: 0.4844 - val_loss: 1.8731\n",
      "Epoch 15/100\n",
      "199/199 - 6s - 30ms/step - acc: 0.6106 - loss: 1.2750 - val_acc: 0.4830 - val_loss: 1.8996\n",
      "Epoch 16/100\n",
      "199/199 - 6s - 29ms/step - acc: 0.6207 - loss: 1.2276 - val_acc: 0.4830 - val_loss: 1.8924\n",
      "Epoch 17/100\n",
      "199/199 - 6s - 30ms/step - acc: 0.6380 - loss: 1.1644 - val_acc: 0.4759 - val_loss: 1.9197\n",
      "Epoch 18/100\n",
      "199/199 - 6s - 30ms/step - acc: 0.6503 - loss: 1.1219 - val_acc: 0.4901 - val_loss: 1.9285\n",
      "Epoch 19/100\n",
      "199/199 - 6s - 30ms/step - acc: 0.6648 - loss: 1.0696 - val_acc: 0.4802 - val_loss: 1.9362\n",
      "Epoch 20/100\n",
      "199/199 - 6s - 30ms/step - acc: 0.6875 - loss: 1.0290 - val_acc: 0.4759 - val_loss: 1.9699\n",
      "Epoch 21/100\n",
      "199/199 - 6s - 30ms/step - acc: 0.6924 - loss: 0.9843 - val_acc: 0.4858 - val_loss: 2.0113\n",
      "Epoch 22/100\n",
      "199/199 - 6s - 30ms/step - acc: 0.7034 - loss: 0.9536 - val_acc: 0.4830 - val_loss: 2.0138\n",
      "Epoch 23/100\n",
      "199/199 - 6s - 31ms/step - acc: 0.7149 - loss: 0.9165 - val_acc: 0.4816 - val_loss: 2.0356\n",
      "Epoch 24/100\n",
      "199/199 - 6s - 30ms/step - acc: 0.7258 - loss: 0.8764 - val_acc: 0.4773 - val_loss: 2.0631\n",
      "Epoch 25/100\n",
      "199/199 - 6s - 30ms/step - acc: 0.7343 - loss: 0.8464 - val_acc: 0.4717 - val_loss: 2.0808\n",
      "Epoch 26/100\n",
      "199/199 - 6s - 30ms/step - acc: 0.7510 - loss: 0.8155 - val_acc: 0.4816 - val_loss: 2.0921\n",
      "Epoch 27/100\n",
      "199/199 - 6s - 30ms/step - acc: 0.7540 - loss: 0.7824 - val_acc: 0.4788 - val_loss: 2.1158\n",
      "Epoch 28/100\n",
      "199/199 - 6s - 30ms/step - acc: 0.7616 - loss: 0.7535 - val_acc: 0.4844 - val_loss: 2.1519\n",
      "Epoch 29/100\n",
      "199/199 - 6s - 30ms/step - acc: 0.7679 - loss: 0.7410 - val_acc: 0.4929 - val_loss: 2.1621\n",
      "Epoch 30/100\n",
      "199/199 - 6s - 30ms/step - acc: 0.7728 - loss: 0.7075 - val_acc: 0.4873 - val_loss: 2.1811\n",
      "Epoch 31/100\n",
      "199/199 - 6s - 30ms/step - acc: 0.7846 - loss: 0.6946 - val_acc: 0.4830 - val_loss: 2.2103\n",
      "Epoch 32/100\n",
      "199/199 - 6s - 30ms/step - acc: 0.7882 - loss: 0.6719 - val_acc: 0.4816 - val_loss: 2.2065\n",
      "Epoch 33/100\n",
      "199/199 - 6s - 30ms/step - acc: 0.7936 - loss: 0.6473 - val_acc: 0.4915 - val_loss: 2.2664\n",
      "Epoch 34/100\n",
      "199/199 - 6s - 30ms/step - acc: 0.8101 - loss: 0.6208 - val_acc: 0.4802 - val_loss: 2.2905\n",
      "Epoch 35/100\n",
      "199/199 - 6s - 30ms/step - acc: 0.8059 - loss: 0.6235 - val_acc: 0.5014 - val_loss: 2.2796\n",
      "Epoch 36/100\n",
      "199/199 - 6s - 30ms/step - acc: 0.8038 - loss: 0.6108 - val_acc: 0.4830 - val_loss: 2.3099\n",
      "Epoch 37/100\n",
      "199/199 - 6s - 30ms/step - acc: 0.8145 - loss: 0.5778 - val_acc: 0.4844 - val_loss: 2.3386\n",
      "Epoch 38/100\n",
      "199/199 - 6s - 30ms/step - acc: 0.8185 - loss: 0.5665 - val_acc: 0.4844 - val_loss: 2.3729\n",
      "Epoch 39/100\n",
      "199/199 - 6s - 30ms/step - acc: 0.8248 - loss: 0.5599 - val_acc: 0.4887 - val_loss: 2.3771\n",
      "Epoch 40/100\n",
      "199/199 - 6s - 30ms/step - acc: 0.8268 - loss: 0.5457 - val_acc: 0.4844 - val_loss: 2.4329\n",
      "Epoch 41/100\n",
      "199/199 - 6s - 30ms/step - acc: 0.8282 - loss: 0.5368 - val_acc: 0.4844 - val_loss: 2.4440\n",
      "Epoch 42/100\n",
      "199/199 - 6s - 30ms/step - acc: 0.8363 - loss: 0.5157 - val_acc: 0.4788 - val_loss: 2.4598\n",
      "Epoch 43/100\n",
      "199/199 - 6s - 30ms/step - acc: 0.8364 - loss: 0.5075 - val_acc: 0.4858 - val_loss: 2.4826\n",
      "Epoch 44/100\n",
      "199/199 - 6s - 30ms/step - acc: 0.8453 - loss: 0.4935 - val_acc: 0.4759 - val_loss: 2.5043\n",
      "Epoch 45/100\n",
      "199/199 - 6s - 30ms/step - acc: 0.8407 - loss: 0.4989 - val_acc: 0.4802 - val_loss: 2.5582\n",
      "Epoch 46/100\n",
      "199/199 - 6s - 30ms/step - acc: 0.8486 - loss: 0.4851 - val_acc: 0.4858 - val_loss: 2.5316\n",
      "Epoch 47/100\n",
      "199/199 - 6s - 30ms/step - acc: 0.8527 - loss: 0.4657 - val_acc: 0.4802 - val_loss: 2.5387\n",
      "Epoch 48/100\n",
      "199/199 - 6s - 30ms/step - acc: 0.8557 - loss: 0.4587 - val_acc: 0.4901 - val_loss: 2.5736\n",
      "Epoch 49/100\n",
      "199/199 - 6s - 30ms/step - acc: 0.8598 - loss: 0.4577 - val_acc: 0.4688 - val_loss: 2.6229\n",
      "Epoch 50/100\n",
      "199/199 - 6s - 30ms/step - acc: 0.8616 - loss: 0.4373 - val_acc: 0.4788 - val_loss: 2.6130\n",
      "Epoch 51/100\n",
      "199/199 - 6s - 30ms/step - acc: 0.8642 - loss: 0.4219 - val_acc: 0.4788 - val_loss: 2.6210\n",
      "Epoch 52/100\n",
      "199/199 - 6s - 30ms/step - acc: 0.8623 - loss: 0.4342 - val_acc: 0.4788 - val_loss: 2.6606\n",
      "Epoch 53/100\n",
      "199/199 - 6s - 30ms/step - acc: 0.8634 - loss: 0.4342 - val_acc: 0.4773 - val_loss: 2.6799\n",
      "Epoch 54/100\n",
      "199/199 - 6s - 30ms/step - acc: 0.8667 - loss: 0.4149 - val_acc: 0.4759 - val_loss: 2.7193\n",
      "Epoch 55/100\n",
      "199/199 - 6s - 30ms/step - acc: 0.8724 - loss: 0.3990 - val_acc: 0.4688 - val_loss: 2.7770\n",
      "Epoch 56/100\n",
      "199/199 - 6s - 32ms/step - acc: 0.8676 - loss: 0.4066 - val_acc: 0.4773 - val_loss: 2.7518\n",
      "Epoch 57/100\n",
      "199/199 - 6s - 30ms/step - acc: 0.8774 - loss: 0.3923 - val_acc: 0.4674 - val_loss: 2.7503\n",
      "Epoch 58/100\n",
      "199/199 - 6s - 30ms/step - acc: 0.8724 - loss: 0.3908 - val_acc: 0.4816 - val_loss: 2.7591\n",
      "Epoch 59/100\n",
      "199/199 - 6s - 30ms/step - acc: 0.8782 - loss: 0.3839 - val_acc: 0.4788 - val_loss: 2.7891\n",
      "Epoch 60/100\n",
      "199/199 - 6s - 30ms/step - acc: 0.8783 - loss: 0.3742 - val_acc: 0.4816 - val_loss: 2.7553\n",
      "Epoch 61/100\n",
      "199/199 - 6s - 30ms/step - acc: 0.8785 - loss: 0.3741 - val_acc: 0.4873 - val_loss: 2.8289\n",
      "Epoch 62/100\n",
      "199/199 - 6s - 30ms/step - acc: 0.8812 - loss: 0.3683 - val_acc: 0.4873 - val_loss: 2.8125\n",
      "Epoch 63/100\n",
      "199/199 - 6s - 30ms/step - acc: 0.8840 - loss: 0.3714 - val_acc: 0.4844 - val_loss: 2.8790\n",
      "Epoch 64/100\n",
      "199/199 - 6s - 30ms/step - acc: 0.8843 - loss: 0.3650 - val_acc: 0.4887 - val_loss: 2.8818\n",
      "Epoch 65/100\n",
      "199/199 - 6s - 30ms/step - acc: 0.8782 - loss: 0.3626 - val_acc: 0.4703 - val_loss: 2.9154\n",
      "Epoch 66/100\n",
      "199/199 - 6s - 30ms/step - acc: 0.8892 - loss: 0.3509 - val_acc: 0.4844 - val_loss: 2.9091\n",
      "Epoch 67/100\n",
      "199/199 - 6s - 30ms/step - acc: 0.8880 - loss: 0.3505 - val_acc: 0.4858 - val_loss: 2.9031\n",
      "Epoch 68/100\n",
      "199/199 - 6s - 30ms/step - acc: 0.8902 - loss: 0.3409 - val_acc: 0.4773 - val_loss: 2.9743\n",
      "Epoch 69/100\n",
      "199/199 - 6s - 31ms/step - acc: 0.8872 - loss: 0.3477 - val_acc: 0.4788 - val_loss: 2.9784\n",
      "Epoch 70/100\n",
      "199/199 - 6s - 30ms/step - acc: 0.8932 - loss: 0.3346 - val_acc: 0.4858 - val_loss: 3.0047\n",
      "Epoch 71/100\n",
      "199/199 - 6s - 30ms/step - acc: 0.8910 - loss: 0.3392 - val_acc: 0.4731 - val_loss: 2.9780\n",
      "Epoch 72/100\n",
      "199/199 - 6s - 30ms/step - acc: 0.8927 - loss: 0.3367 - val_acc: 0.4802 - val_loss: 3.0237\n",
      "Epoch 73/100\n",
      "199/199 - 6s - 30ms/step - acc: 0.8864 - loss: 0.3346 - val_acc: 0.4788 - val_loss: 2.9667\n",
      "Epoch 74/100\n",
      "199/199 - 6s - 30ms/step - acc: 0.8946 - loss: 0.3288 - val_acc: 0.4731 - val_loss: 3.0428\n",
      "Epoch 75/100\n",
      "199/199 - 6s - 31ms/step - acc: 0.8928 - loss: 0.3285 - val_acc: 0.4816 - val_loss: 3.0359\n",
      "Epoch 76/100\n",
      "199/199 - 6s - 30ms/step - acc: 0.8922 - loss: 0.3196 - val_acc: 0.4802 - val_loss: 3.0480\n",
      "Epoch 77/100\n",
      "199/199 - 6s - 30ms/step - acc: 0.8976 - loss: 0.3185 - val_acc: 0.4816 - val_loss: 3.0992\n",
      "Epoch 78/100\n",
      "199/199 - 6s - 30ms/step - acc: 0.8996 - loss: 0.3113 - val_acc: 0.4759 - val_loss: 3.1033\n",
      "Epoch 79/100\n",
      "199/199 - 6s - 30ms/step - acc: 0.8966 - loss: 0.3222 - val_acc: 0.4703 - val_loss: 3.1177\n",
      "Epoch 80/100\n",
      "199/199 - 6s - 30ms/step - acc: 0.8977 - loss: 0.3105 - val_acc: 0.4773 - val_loss: 3.1187\n",
      "Epoch 81/100\n",
      "199/199 - 6s - 30ms/step - acc: 0.8980 - loss: 0.3160 - val_acc: 0.4745 - val_loss: 3.1322\n",
      "Epoch 82/100\n",
      "199/199 - 6s - 31ms/step - acc: 0.8968 - loss: 0.3065 - val_acc: 0.4632 - val_loss: 3.1381\n",
      "Epoch 83/100\n",
      "199/199 - 6s - 31ms/step - acc: 0.8996 - loss: 0.2998 - val_acc: 0.4731 - val_loss: 3.1794\n",
      "Epoch 84/100\n",
      "199/199 - 6s - 30ms/step - acc: 0.9018 - loss: 0.2998 - val_acc: 0.4646 - val_loss: 3.1847\n",
      "Epoch 85/100\n",
      "199/199 - 6s - 30ms/step - acc: 0.8954 - loss: 0.2998 - val_acc: 0.4547 - val_loss: 3.2139\n",
      "Epoch 86/100\n",
      "199/199 - 6s - 30ms/step - acc: 0.9032 - loss: 0.3001 - val_acc: 0.4788 - val_loss: 3.2050\n",
      "Epoch 87/100\n",
      "199/199 - 6s - 30ms/step - acc: 0.9092 - loss: 0.2898 - val_acc: 0.4646 - val_loss: 3.1856\n",
      "Epoch 88/100\n",
      "199/199 - 6s - 30ms/step - acc: 0.8977 - loss: 0.3050 - val_acc: 0.4646 - val_loss: 3.1717\n",
      "Epoch 89/100\n",
      "199/199 - 6s - 30ms/step - acc: 0.9053 - loss: 0.2912 - val_acc: 0.4646 - val_loss: 3.2407\n",
      "Epoch 90/100\n",
      "199/199 - 6s - 30ms/step - acc: 0.9058 - loss: 0.2841 - val_acc: 0.4589 - val_loss: 3.2514\n",
      "Epoch 91/100\n",
      "199/199 - 6s - 30ms/step - acc: 0.9051 - loss: 0.2884 - val_acc: 0.4575 - val_loss: 3.2511\n",
      "Epoch 92/100\n",
      "199/199 - 6s - 29ms/step - acc: 0.9037 - loss: 0.2815 - val_acc: 0.4660 - val_loss: 3.2437\n",
      "Epoch 93/100\n",
      "199/199 - 6s - 30ms/step - acc: 0.9067 - loss: 0.2840 - val_acc: 0.4674 - val_loss: 3.2495\n",
      "Epoch 94/100\n",
      "199/199 - 6s - 30ms/step - acc: 0.9072 - loss: 0.2814 - val_acc: 0.4646 - val_loss: 3.3149\n",
      "Epoch 95/100\n",
      "199/199 - 6s - 30ms/step - acc: 0.9066 - loss: 0.2824 - val_acc: 0.4731 - val_loss: 3.3005\n",
      "Epoch 96/100\n",
      "199/199 - 6s - 30ms/step - acc: 0.9070 - loss: 0.2779 - val_acc: 0.4717 - val_loss: 3.2696\n",
      "Epoch 97/100\n",
      "199/199 - 6s - 30ms/step - acc: 0.9094 - loss: 0.2794 - val_acc: 0.4660 - val_loss: 3.2693\n",
      "Epoch 98/100\n",
      "199/199 - 6s - 30ms/step - acc: 0.9092 - loss: 0.2745 - val_acc: 0.4646 - val_loss: 3.3242\n",
      "Epoch 99/100\n",
      "199/199 - 6s - 30ms/step - acc: 0.9100 - loss: 0.2724 - val_acc: 0.4731 - val_loss: 3.3089\n",
      "Epoch 100/100\n",
      "199/199 - 6s - 29ms/step - acc: 0.9056 - loss: 0.2804 - val_acc: 0.4632 - val_loss: 3.3687\n"
     ]
    },
    {
     "data": {
      "text/plain": [
       "<keras.src.callbacks.history.History at 0x14f9d89e0>"
      ]
     },
     "execution_count": 16,
     "metadata": {},
     "output_type": "execute_result"
    }
   ],
   "source": [
    "# define model\n",
    "model = Sequential()\n",
    "model.add(Embedding(vocab, 50, input_length=30, trainable=True))\n",
    "model.add(GRU(150, recurrent_dropout=0.1, dropout=0.1))\n",
    "model.add(Dense(vocab, activation='softmax'))\n",
    "print(model.summary())\n",
    "\n",
    "# compile the model\n",
    "model.compile(loss='categorical_crossentropy', metrics=['acc'], optimizer='adam')\n",
    "# fit the model\n",
    "model.fit(X_tr, y_tr, epochs=100, verbose=2, validation_data=(X_val, y_vxal))"
   ]
  },
  {
   "cell_type": "code",
   "execution_count": null,
   "metadata": {},
   "outputs": [],
   "source": []
  }
 ],
 "metadata": {
  "kernelspec": {
   "display_name": ".venv",
   "language": "python",
   "name": "python3"
  },
  "language_info": {
   "codemirror_mode": {
    "name": "ipython",
    "version": 3
   },
   "file_extension": ".py",
   "mimetype": "text/x-python",
   "name": "python",
   "nbconvert_exporter": "python",
   "pygments_lexer": "ipython3",
   "version": "3.12.4"
  }
 },
 "nbformat": 4,
 "nbformat_minor": 2
}
